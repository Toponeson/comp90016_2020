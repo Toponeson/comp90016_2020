{
 "cells": [
  {
   "cell_type": "markdown",
   "metadata": {},
   "source": [
    "# Week 3 - Implementing the tasks from week 2\n",
    "\n",
    "In this workshop, we will be revisiting the transcription and translation activity from in last week. We will be writing code to perform all the tasks we completed by hand in week 2. The workshop has two parts: implementing methods from scratch, and using existing implementations and data structures to store and process sequences.\n",
    "\n",
    "If you need to review coding in python or the use of jupyter notebooks, there are guides to help you in the Modules tab on the LMS.\n",
    "\n",
    "## Task 1 - Computing the reverse complement\n",
    "\n",
    "Here, we will write a script to determine the reverse complement of a given sequence. We begin by creating a dictionary of mappings."
   ]
  },
  {
   "cell_type": "code",
   "execution_count": 1,
   "metadata": {},
   "outputs": [
    {
     "data": {
      "text/plain": [
       "'G'"
      ]
     },
     "execution_count": 1,
     "metadata": {},
     "output_type": "execute_result"
    }
   ],
   "source": [
    "complement_dict = {'A': 'T', 'T': 'A', 'C': 'G', 'G': 'C'}\n",
    "complement_dict['C']"
   ]
  },
  {
   "cell_type": "code",
   "execution_count": 2,
   "metadata": {},
   "outputs": [
    {
     "name": "stdout",
     "output_type": "stream",
     "text": [
      "CTAGAAGCCCAGATCAAGTCCAATTGG\n"
     ]
    }
   ],
   "source": [
    "dna_seq = 'GATCTTCGGGTCTAGTTCAGGTTAACC'\n",
    "complement_seq = ''\n",
    "\n",
    "for base in dna_seq:\n",
    "    complement_seq += complement_dict[base]\n",
    "    \n",
    "print(complement_seq)"
   ]
  },
  {
   "cell_type": "code",
   "execution_count": 3,
   "metadata": {},
   "outputs": [
    {
     "data": {
      "text/plain": [
       "'GATCTTCGGGTCTAGTTCAGGTTAACC'"
      ]
     },
     "execution_count": 3,
     "metadata": {},
     "output_type": "execute_result"
    }
   ],
   "source": [
    "# Note: we do not modify the original DNA sequence. This allows it to be reused in other places.\n",
    "dna_seq"
   ]
  },
  {
   "cell_type": "markdown",
   "metadata": {},
   "source": [
    "The above script can be written up as a function thereby making it reusable"
   ]
  },
  {
   "cell_type": "code",
   "execution_count": 4,
   "metadata": {},
   "outputs": [],
   "source": [
    "def complement(seq):\n",
    "    \"\"\"\n",
    "    Compute the reverse complement of a given DNA sequence\n",
    "    \"\"\"\n",
    "    \n",
    "    complement_dict = {'A': 'T', 'T': 'A', 'C': 'G', 'G': 'C'}\n",
    "    complement_seq = ''\n",
    "\n",
    "    for nt in seq:\n",
    "        complement_seq += complement_dict[nt]\n",
    "    return complement_seq"
   ]
  },
  {
   "cell_type": "code",
   "execution_count": 5,
   "metadata": {},
   "outputs": [
    {
     "name": "stdout",
     "output_type": "stream",
     "text": [
      "TTTTT\n",
      "CTAGAAGCCCAGATCAAGTCCAATTGG\n"
     ]
    }
   ],
   "source": [
    "print(complement('AAAAA')) # should give 'TTTTT'\n",
    "print(complement(dna_seq))"
   ]
  },
  {
   "cell_type": "markdown",
   "metadata": {},
   "source": [
    "## Task 2 - Transcribing a DNA sequence\n",
    "\n",
    "Here, we trancribe a DNA sequence into an RNA-sequence. Write a function to transcribe a given DNA sequence"
   ]
  },
  {
   "cell_type": "code",
   "execution_count": 6,
   "metadata": {},
   "outputs": [],
   "source": [
    "def transcribe(dna):\n",
    "    \"\"\"\n",
    "    Compute the transcript resulting from a DNA sequence\n",
    "    \"\"\"\n",
    "    \n",
    "    #your code here    \n",
    "    rna = ''\n",
    "    rna = str.replace(dna, 'T', 'U')\n",
    "    return(rna)"
   ]
  },
  {
   "cell_type": "code",
   "execution_count": 7,
   "metadata": {},
   "outputs": [
    {
     "name": "stdout",
     "output_type": "stream",
     "text": [
      "AUAU\n",
      "AUGCCCCAACUAAAUACUACCGUAUGGCCCACCAUAAUUACC\n"
     ]
    }
   ],
   "source": [
    "print(transcribe('ATAT')) # should give 'AUAU'\n",
    "print(transcribe('ATGCCCCAACTAAATACTACCGTATGGCCCACCATAATTACC'))"
   ]
  },
  {
   "cell_type": "markdown",
   "metadata": {},
   "source": [
    "## Task 3 - Translate a DNA sequence\n",
    "\n",
    "As with task 1, we will be needing a dictionary to help us map codons to their respective amino acids. We first form the dictionary using information provided in lab 1"
   ]
  },
  {
   "cell_type": "code",
   "execution_count": 8,
   "metadata": {},
   "outputs": [
    {
     "data": {
      "text/plain": [
       "{'TTT': 'F',\n",
       " 'TTC': 'F',\n",
       " 'TTA': 'L',\n",
       " 'TTG': 'L',\n",
       " 'TCT': 'S',\n",
       " 'TCC': 'S',\n",
       " 'TCA': 'S',\n",
       " 'TCG': 'S',\n",
       " 'TAT': 'Y',\n",
       " 'TAC': 'Y',\n",
       " 'TAA': '*',\n",
       " 'TAG': '*',\n",
       " 'TGT': 'C',\n",
       " 'TGC': 'C',\n",
       " 'TGA': '*',\n",
       " 'TGG': 'W',\n",
       " 'CTT': 'L',\n",
       " 'CTC': 'L',\n",
       " 'CTA': 'L',\n",
       " 'CTG': 'L',\n",
       " 'CCT': 'P',\n",
       " 'CCC': 'P',\n",
       " 'CCA': 'P',\n",
       " 'CCG': 'P',\n",
       " 'CAT': 'H',\n",
       " 'CAC': 'H',\n",
       " 'CAA': 'Q',\n",
       " 'CAG': 'Q',\n",
       " 'CGT': 'R',\n",
       " 'CGC': 'R',\n",
       " 'CGA': 'R',\n",
       " 'CGG': 'R',\n",
       " 'ATT': 'I',\n",
       " 'ATC': 'I',\n",
       " 'ATA': 'I',\n",
       " 'ATG': 'M',\n",
       " 'ACT': 'T',\n",
       " 'ACC': 'T',\n",
       " 'ACA': 'T',\n",
       " 'ACG': 'T',\n",
       " 'AAT': 'N',\n",
       " 'AAC': 'N',\n",
       " 'AAA': 'K',\n",
       " 'AAG': 'K',\n",
       " 'AGT': 'S',\n",
       " 'AGC': 'S',\n",
       " 'AGA': 'R',\n",
       " 'AGG': 'R',\n",
       " 'GTT': 'V',\n",
       " 'GTC': 'V',\n",
       " 'GTA': 'V',\n",
       " 'GTG': 'V',\n",
       " 'GCT': 'A',\n",
       " 'GCC': 'A',\n",
       " 'GCA': 'A',\n",
       " 'GCG': 'A',\n",
       " 'GAT': 'D',\n",
       " 'GAC': 'D',\n",
       " 'GAA': 'E',\n",
       " 'GAG': 'E',\n",
       " 'GGT': 'G',\n",
       " 'GGC': 'G',\n",
       " 'GGA': 'G',\n",
       " 'GGG': 'G'}"
      ]
     },
     "execution_count": 8,
     "metadata": {},
     "output_type": "execute_result"
    }
   ],
   "source": [
    "# Note: * represents the stop codon and M the start codon\n",
    "base1 = 'TTTTTTTTTTTTTTTTCCCCCCCCCCCCCCCCAAAAAAAAAAAAAAAAGGGGGGGGGGGGGGGG'\n",
    "base2 = 'TTTTCCCCAAAAGGGGTTTTCCCCAAAAGGGGTTTTCCCCAAAAGGGGTTTTCCCCAAAAGGGG'\n",
    "base3 = 'TCAGTCAGTCAGTCAGTCAGTCAGTCAGTCAGTCAGTCAGTCAGTCAGTCAGTCAGTCAGTCAG'\n",
    "aa = 'FFLLSSSSYY**CC*WLLLLPPPPHHQQRRRRIIIMTTTTNNKKSSRRVVVVAAAADDEEGGGG'\n",
    "\n",
    "#your code here\n",
    "codon_map = {} # build a codon map using this dictionary\n",
    "for nt1, nt2, nt3, aa1 in zip(base1, base2, base3, aa):\n",
    "    codon_map[nt1 + nt2 + nt3] = aa1\n",
    "codon_map"
   ]
  },
  {
   "cell_type": "markdown",
   "metadata": {},
   "source": [
    "Now, use your dictionary to get the amino acid sequence for the first reading frame (no offset on the sequence). You can use the `dict.get` function to return default values if the keys do not exist in the dictionary"
   ]
  },
  {
   "cell_type": "code",
   "execution_count": 9,
   "metadata": {},
   "outputs": [],
   "source": [
    "def translate(dna, codon_dict):\n",
    "    \"\"\"\n",
    "    Translate a DNA sequence from the first reading frame, given a codon mapping dictionary\n",
    "    Codons are keys and amino acids are values in this dictionary\n",
    "    \"\"\"\n",
    "    \n",
    "    #your code here    \n",
    "    aa_seq = ''\n",
    "    for i in range(0, len(dna), 3):\n",
    "        aa_seq += codon_dict.get(dna[i:(i + 3)], 'X')\n",
    "    return(aa_seq)"
   ]
  },
  {
   "cell_type": "code",
   "execution_count": 10,
   "metadata": {},
   "outputs": [
    {
     "name": "stdout",
     "output_type": "stream",
     "text": [
      "MMX\n",
      "TIKPI*PPPKFRIIX\n"
     ]
    }
   ],
   "source": [
    "dna_seq = 'ACTATTAAACCCATATAACCTCCCCCAAAATTCAGAATAATAAC'\n",
    "print(translate('ATGATGA', codon_map)) # should give MM or MMX where X represents an incomplete codon\n",
    "print(translate(dna_seq, codon_map))"
   ]
  },
  {
   "cell_type": "markdown",
   "metadata": {},
   "source": [
    "Now, write a function that uses the above function to get the amino acid sequence of all 6 reading frames. Note: three reading frames will be from the reverse complement strand. You may use the `dna_seq[::-1]` to reverse a sequence this. This is a shorter way to write `dna_seq[44::-1]` which means start at position 44, go all the way to the end (position 0 inclusive) and move with a step -1 (step backwards)."
   ]
  },
  {
   "cell_type": "code",
   "execution_count": 11,
   "metadata": {},
   "outputs": [
    {
     "data": {
      "text/plain": [
       "'CAATAATAAGACTTAAAACCCCCTCCAATATACCCAAATTATCA'"
      ]
     },
     "execution_count": 11,
     "metadata": {},
     "output_type": "execute_result"
    }
   ],
   "source": [
    "dna_seq[::-1]"
   ]
  },
  {
   "cell_type": "code",
   "execution_count": 12,
   "metadata": {},
   "outputs": [
    {
     "data": {
      "text/plain": [
       "'CAATAATAAGACTTAAAACCCCCTCCAATATACCCAAATTATCA'"
      ]
     },
     "execution_count": 12,
     "metadata": {},
     "output_type": "execute_result"
    }
   ],
   "source": [
    "dna_seq[44::-1]"
   ]
  },
  {
   "cell_type": "code",
   "execution_count": 13,
   "metadata": {},
   "outputs": [],
   "source": [
    "def six_rfs(dna, codon_dict):\n",
    "    \"\"\"\n",
    "    Get the amino acid sequence from all six reading frames of a sequence.\n",
    "    This function should use the translate function implemented earlier\n",
    "    Return the result as a list of size 6\n",
    "    \"\"\"\n",
    "    \n",
    "    #your code here\n",
    "    aaseqs = []\n",
    "    \n",
    "    #forward strand \n",
    "    aaseqs.append(translate(dna, codon_dict))\n",
    "    aaseqs.append(translate(dna[1:], codon_dict))\n",
    "    aaseqs.append(translate(dna[2:], codon_dict))\n",
    "    \n",
    "    #reverse strand\n",
    "    rev_dna = complement(dna[::-1])\n",
    "    aaseqs.append(translate(rev_dna, codon_dict))\n",
    "    aaseqs.append(translate(rev_dna[1:], codon_dict))\n",
    "    aaseqs.append(translate(rev_dna[2:], codon_dict))\n",
    "    \n",
    "    return aaseqs"
   ]
  },
  {
   "cell_type": "code",
   "execution_count": 14,
   "metadata": {},
   "outputs": [
    {
     "data": {
      "text/plain": [
       "['TIKPI*PPPKFRIIX',\n",
       " 'LLNPYNLPQNSE**X',\n",
       " 'Y*THITSPKIQNNN',\n",
       " 'VIILNFGGGYMGLIX',\n",
       " 'LLF*ILGEVIWV**X',\n",
       " 'YYSEFWGRLYGFNS']"
      ]
     },
     "execution_count": 14,
     "metadata": {},
     "output_type": "execute_result"
    }
   ],
   "source": [
    "# should give: (with or without the X)\n",
    "# 'TIKPI*PPPKFRIIX'\n",
    "# 'LLNPYNLPQNSE**X'\n",
    "# 'Y*THITSPKIQNNN'\n",
    "# 'VIILNFGGGYMGLIX'\n",
    "# 'LLF*ILGEVIWV**X'\n",
    "# 'YYSEFWGRLYGFNS'\n",
    "\n",
    "six_rfs(dna_seq, codon_map)"
   ]
  },
  {
   "cell_type": "markdown",
   "metadata": {},
   "source": [
    "# Task 4 - using the scikit-bio library to manage sequences\n",
    "\n",
    "All of the above tasks can be performed using functions in the scikit-bio library. It provides functions to read and parse some popular file formats, and functions to store and modify sequences.\n",
    "\n",
    "It is already installed for you on the lab server.\n",
    "\n",
    "To install it on your personal computer, use the command:\n",
    "conda install -c conda-forge scikit-bio"
   ]
  },
  {
   "cell_type": "code",
   "execution_count": 18,
   "metadata": {},
   "outputs": [],
   "source": [
    "#import the library\n",
    "import skbio"
   ]
  },
  {
   "cell_type": "markdown",
   "metadata": {},
   "source": [
    "scikit-bio, like many python libraries, uses an object oriented programming paradigm. As an example, a DNA string is treated as an object. All objects have properties and behaviours. Properties could be metadata such as the sequence ID of a DNA sequence or its quality. Behaviours could be getting the transcribing or translating the sequence. Properties and behaviours are referred to as *attributes* and *methods* in python."
   ]
  },
  {
   "cell_type": "code",
   "execution_count": 19,
   "metadata": {},
   "outputs": [
    {
     "data": {
      "text/plain": [
       "DNA\n",
       "--------------------------------------------------\n",
       "Stats:\n",
       "    length: 44\n",
       "    has gaps: False\n",
       "    has degenerates: False\n",
       "    has definites: True\n",
       "    GC-content: 31.82%\n",
       "--------------------------------------------------\n",
       "0 ACTATTAAAC CCATATAACC TCCCCCAAAA TTCAGAATAA TAAC"
      ]
     },
     "execution_count": 19,
     "metadata": {},
     "output_type": "execute_result"
    }
   ],
   "source": [
    "dna_seq = skbio.sequence.DNA('ACTATTAAACCCATATAACCTCCCCCAAAATTCAGAATAATAAC')\n",
    "dna_seq"
   ]
  },
  {
   "cell_type": "code",
   "execution_count": 20,
   "metadata": {},
   "outputs": [
    {
     "data": {
      "text/plain": [
       "{'-',\n",
       " '.',\n",
       " 'A',\n",
       " 'B',\n",
       " 'C',\n",
       " 'D',\n",
       " 'G',\n",
       " 'H',\n",
       " 'K',\n",
       " 'M',\n",
       " 'N',\n",
       " 'R',\n",
       " 'S',\n",
       " 'T',\n",
       " 'V',\n",
       " 'W',\n",
       " 'Y'}"
      ]
     },
     "execution_count": 20,
     "metadata": {},
     "output_type": "execute_result"
    }
   ],
   "source": [
    "# the alphabet used to encode a DNA sequence is an attribute of the DNA object from skbio\n",
    "dna_seq.alphabet"
   ]
  },
  {
   "cell_type": "markdown",
   "metadata": {},
   "source": [
    "# Task 5 - Behaviours/Methods of a DNA object\n",
    "\n",
    "We now load the sequence of the dnaA gene from a fasta file in the data folder using the `skbio.io.read` function. Type `?skbio.io.read` in a code cell to get to the help page of this function."
   ]
  },
  {
   "cell_type": "code",
   "execution_count": 21,
   "metadata": {},
   "outputs": [
    {
     "data": {
      "text/plain": [
       "DNA\n",
       "-----------------------------------------------------------------------\n",
       "Metadata:\n",
       "    'description': 'dnaA Chromosomal replication initiator protein DnaA\n",
       "                    1148048:1149370 reverse'\n",
       "    'id': 'MON-234_01132'\n",
       "Stats:\n",
       "    length: 1323\n",
       "    has gaps: False\n",
       "    has degenerates: False\n",
       "    has definites: True\n",
       "    GC-content: 32.05%\n",
       "-----------------------------------------------------------------------\n",
       "0    ATGAATCCAA GCCAAATACT TGAAAATTTA AAAAAAGAAC TCAATGAAAA CGAATACGAA\n",
       "60   AATTATATCG CTATCTTAAA ATTTAACGAA AAACAAAGTA AAGCAGATCT TCTAGTCTTT\n",
       "...\n",
       "1260 GAACAAATAA AGACAAAAAT CGAAGAATTA AAAAACAAAA TTCTTACAAA AAGTCAAAGT\n",
       "1320 TAA"
      ]
     },
     "execution_count": 21,
     "metadata": {},
     "output_type": "execute_result"
    }
   ],
   "source": [
    "dnaA = skbio.io.read('data/dnaA.fa', format = 'fasta', into = skbio.sequence.DNA)\n",
    "dnaA"
   ]
  },
  {
   "cell_type": "markdown",
   "metadata": {},
   "source": [
    "The above DNA object holds attributes such as a description and an ID. We can get the complement of this sequence, transcribe it and translate it using functions from the scikit-bio library. For more information on all the functions and classes (DNA, RNA, etc.) the library provides, read the documentation page http://scikit-bio.org/docs/0.5.1/index.html."
   ]
  },
  {
   "cell_type": "code",
   "execution_count": 22,
   "metadata": {},
   "outputs": [
    {
     "data": {
      "text/plain": [
       "DNA\n",
       "-----------------------------------------------------------------------\n",
       "Metadata:\n",
       "    'description': 'dnaA Chromosomal replication initiator protein DnaA\n",
       "                    1148048:1149370 reverse'\n",
       "    'id': 'MON-234_01132'\n",
       "Stats:\n",
       "    length: 1323\n",
       "    has gaps: False\n",
       "    has degenerates: False\n",
       "    has definites: True\n",
       "    GC-content: 32.05%\n",
       "-----------------------------------------------------------------------\n",
       "0    TACTTAGGTT CGGTTTATGA ACTTTTAAAT TTTTTTCTTG AGTTACTTTT GCTTATGCTT\n",
       "60   TTAATATAGC GATAGAATTT TAAATTGCTT TTTGTTTCAT TTCGTCTAGA AGATCAGAAA\n",
       "...\n",
       "1260 CTTGTTTATT TCTGTTTTTA GCTTCTTAAT TTTTTGTTTT AAGAATGTTT TTCAGTTTCA\n",
       "1320 ATT"
      ]
     },
     "execution_count": 22,
     "metadata": {},
     "output_type": "execute_result"
    }
   ],
   "source": [
    "dnaA.complement()"
   ]
  },
  {
   "cell_type": "code",
   "execution_count": 23,
   "metadata": {},
   "outputs": [
    {
     "data": {
      "text/plain": [
       "RNA\n",
       "-----------------------------------------------------------------------\n",
       "Metadata:\n",
       "    'description': 'dnaA Chromosomal replication initiator protein DnaA\n",
       "                    1148048:1149370 reverse'\n",
       "    'id': 'MON-234_01132'\n",
       "Stats:\n",
       "    length: 1323\n",
       "    has gaps: False\n",
       "    has degenerates: False\n",
       "    has definites: True\n",
       "    GC-content: 32.05%\n",
       "-----------------------------------------------------------------------\n",
       "0    AUGAAUCCAA GCCAAAUACU UGAAAAUUUA AAAAAAGAAC UCAAUGAAAA CGAAUACGAA\n",
       "60   AAUUAUAUCG CUAUCUUAAA AUUUAACGAA AAACAAAGUA AAGCAGAUCU UCUAGUCUUU\n",
       "...\n",
       "1260 GAACAAAUAA AGACAAAAAU CGAAGAAUUA AAAAACAAAA UUCUUACAAA AAGUCAAAGU\n",
       "1320 UAA"
      ]
     },
     "execution_count": 23,
     "metadata": {},
     "output_type": "execute_result"
    }
   ],
   "source": [
    "dnaA.transcribe()"
   ]
  },
  {
   "cell_type": "code",
   "execution_count": 24,
   "metadata": {},
   "outputs": [
    {
     "data": {
      "text/plain": [
       "Protein\n",
       "-----------------------------------------------------------------------\n",
       "Metadata:\n",
       "    'description': 'dnaA Chromosomal replication initiator protein DnaA\n",
       "                    1148048:1149370 reverse'\n",
       "    'id': 'MON-234_01132'\n",
       "Stats:\n",
       "    length: 441\n",
       "    has gaps: False\n",
       "    has degenerates: False\n",
       "    has definites: True\n",
       "    has stops: True\n",
       "-----------------------------------------------------------------------\n",
       "0   MNPSQILENL KKELNENEYE NYIAILKFNE KQSKADLLVF NAPNELLAKF IQTKYGKKIS\n",
       "60  HFYEVQSGNK ASVLIQAQSQ KTTSKSTKID IAHIKAQSTI LNPSFTFESF VVGDSNKYAY\n",
       "...\n",
       "360 SDVKSSKKTQ NVVTARRIAI YLARELTSLT FSQLANFFVM KDHTAISHSV KKIKELMEDD\n",
       "420 EQIKTKIEEL KNKILTKSQS *"
      ]
     },
     "execution_count": 24,
     "metadata": {},
     "output_type": "execute_result"
    }
   ],
   "source": [
    "dnaA.translate()"
   ]
  },
  {
   "cell_type": "code",
   "execution_count": 25,
   "metadata": {},
   "outputs": [
    {
     "data": {
      "text/plain": [
       "[Protein\n",
       " -----------------------------------------------------------------------\n",
       " Metadata:\n",
       "     'description': 'dnaA Chromosomal replication initiator protein DnaA\n",
       "                     1148048:1149370 reverse'\n",
       "     'id': 'MON-234_01132'\n",
       " Stats:\n",
       "     length: 441\n",
       "     has gaps: False\n",
       "     has degenerates: False\n",
       "     has definites: True\n",
       "     has stops: True\n",
       " -----------------------------------------------------------------------\n",
       " 0   MNPSQILENL KKELNENEYE NYIAILKFNE KQSKADLLVF NAPNELLAKF IQTKYGKKIS\n",
       " 60  HFYEVQSGNK ASVLIQAQSQ KTTSKSTKID IAHIKAQSTI LNPSFTFESF VVGDSNKYAY\n",
       " ...\n",
       " 360 SDVKSSKKTQ NVVTARRIAI YLARELTSLT FSQLANFFVM KDHTAISHSV KKIKELMEDD\n",
       " 420 EQIKTKIEEL KNKILTKSQS *, Protein\n",
       " -----------------------------------------------------------------------\n",
       " Metadata:\n",
       "     'description': 'dnaA Chromosomal replication initiator protein DnaA\n",
       "                     1148048:1149370 reverse'\n",
       "     'id': 'MON-234_01132'\n",
       " Stats:\n",
       "     length: 440\n",
       "     has gaps: False\n",
       "     has degenerates: False\n",
       "     has definites: True\n",
       "     has stops: True\n",
       " -----------------------------------------------------------------------\n",
       " 0   *IQAKYLKI* KKNSMKTNTK IISLS*NLTK NKVKQIF*SL TLLMSF*LNS YKQNTVKKFH\n",
       " 60  IFTKCKAEIK QAS*YKHKVK KPLAKALKSI SLISKHKVRF *ILLLLLKAL *WGILTNTLM\n",
       " ...\n",
       " 360 AM*NQVKKLK MSLPQDV*QS I*QGSLQVLL FHNLLISL** KITQPFHIV* RK*KNSWKMM\n",
       " 420 NK*RQKSKN* KTKFLQKVKV, Protein\n",
       " -----------------------------------------------------------------------\n",
       " Metadata:\n",
       "     'description': 'dnaA Chromosomal replication initiator protein DnaA\n",
       "                     1148048:1149370 reverse'\n",
       "     'id': 'MON-234_01132'\n",
       " Stats:\n",
       "     length: 440\n",
       "     has gaps: False\n",
       "     has degenerates: False\n",
       "     has definites: True\n",
       "     has stops: True\n",
       " -----------------------------------------------------------------------\n",
       " 0   ESKPNT*KFK KRTQ*KRIRK LYRYLKI*RK TK*SRSSSL* RS**AFS*IH TNKIR*KNFT\n",
       " 60  FLRSAKRK*S KRLDTSTKSK NH*QKH*NRY RSYQSTKYDF KSFFYF*KLC SGGF*QIRLW\n",
       " ...\n",
       " 360 RCEIK*KNSK CRYRKTYSNL SSKGAYKSYF FTTC*FLCNE RSHSHFT*CE ENKRTHGR**\n",
       " 420 TNKDKNRRIK KQNSYKKSKL, Protein\n",
       " -----------------------------------------------------------------------\n",
       " Metadata:\n",
       "     'description': 'dnaA Chromosomal replication initiator protein DnaA\n",
       "                     1148048:1149370 reverse'\n",
       "     'id': 'MON-234_01132'\n",
       " Stats:\n",
       "     length: 441\n",
       "     has gaps: False\n",
       "     has degenerates: False\n",
       "     has definites: True\n",
       "     has stops: True\n",
       " -----------------------------------------------------------------------\n",
       " 0   LTLTFCKNFV F*FFDFCLYL FIIFHEFFYF LHTM*NGCVI FHYKEISKL* KSKTCKLPC*\n",
       " 60  IDCYTSCGND ILSFFT*FHI AWLDVKFFTD QR*NVFNAYV FFLFFDMIFH HAFCKFESDF\n",
       " ...\n",
       " 360 FLTLCLYQDA CFISALHFVK M*NFFTVFCL YEFS*KLIRS VKD*KICFTL FFVKF*DSDI\n",
       " 420 IFVFVFIEFF F*IFKYLAWI H, Protein\n",
       " -----------------------------------------------------------------------\n",
       " Metadata:\n",
       "     'description': 'dnaA Chromosomal replication initiator protein DnaA\n",
       "                     1148048:1149370 reverse'\n",
       "     'id': 'MON-234_01132'\n",
       " Stats:\n",
       "     length: 440\n",
       "     has gaps: False\n",
       "     has degenerates: False\n",
       "     has definites: True\n",
       "     has stops: True\n",
       " -----------------------------------------------------------------------\n",
       " 0   *L*LFVRILF FNSSIFVFIC SSSSMSSFIF FTLCEMAV*S FITKKLASCE KVRLVSSLAR\n",
       " 60  *IAIRLAVTT F*VFLLDFTS LGLMLNSLQI KDKMSSMLMF SFFSLI*SFI TLFASSRVIS\n",
       " ...\n",
       " 360 F*LCACIKTL ALFPLCTS*K CEIFLPYFVC MNLAKSSLGA LKTRRSALLC FSLNFKIAI*\n",
       " 420 FSYSFSLSSF FKFSSIWLGF, Protein\n",
       " -----------------------------------------------------------------------\n",
       " Metadata:\n",
       "     'description': 'dnaA Chromosomal replication initiator protein DnaA\n",
       "                     1148048:1149370 reverse'\n",
       "     'id': 'MON-234_01132'\n",
       " Stats:\n",
       "     length: 440\n",
       "     has gaps: False\n",
       "     has degenerates: False\n",
       "     has definites: True\n",
       "     has stops: True\n",
       " -----------------------------------------------------------------------\n",
       " 0   NFDFL*EFCF LILRFLSLFV HHLP*VLLFS SHYVKWLCDL SLQRN*QVVK K*DL*APLLD\n",
       " 60  RLLYVLR*RH FEFFYLISHR LA*C*ILYRS KIKCLQCLCF LSFL*YDLSS RFLQVRE*FL\n",
       " ...\n",
       " 360 FDFVLVSRRL LYFRFALRKN VKFFYRILFV *I*LKAH*ER *RLEDLLYFV FR*ILR*RYN\n",
       " 420 FRIRFH*VLF LNFQVFGLDS]"
      ]
     },
     "execution_count": 25,
     "metadata": {},
     "output_type": "execute_result"
    }
   ],
   "source": [
    "list(dnaA.translate_six_frames())"
   ]
  },
  {
   "cell_type": "markdown",
   "metadata": {},
   "source": [
    "Thank you to Dr. Dieter Bulach and Dharmesh Bhuva for developing the tutorial material. Updated by Steven Morgan."
   ]
  }
 ],
 "metadata": {
  "kernelspec": {
   "display_name": "Python 3",
   "language": "python",
   "name": "python3"
  },
  "language_info": {
   "codemirror_mode": {
    "name": "ipython",
    "version": 3
   },
   "file_extension": ".py",
   "mimetype": "text/x-python",
   "name": "python",
   "nbconvert_exporter": "python",
   "pygments_lexer": "ipython3",
   "version": "3.7.3"
  }
 },
 "nbformat": 4,
 "nbformat_minor": 2
}
