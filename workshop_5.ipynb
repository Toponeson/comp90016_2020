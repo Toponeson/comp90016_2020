{
 "cells": [
  {
   "cell_type": "markdown",
   "metadata": {},
   "source": [
    "# Workshop 5 (Week beginning April 27)\n",
    "# Read alignment and variant calling\n",
    "\n",
    "In this workshop we will be performing variant calling by taking reads from a bacterial sample and aligning them to a reference genome. Differences between the reads and the reference genome (variants) will then be identified (called). \n",
    "\n",
    "The tool we will use to perform alignment and SNP calling is called **Snippy**. This provides a straightforward way to run multiple alignment and variant calling on the command line.\n",
    "\n",
    "Snippy is already installed on the COMP90016 server but you can use the commands below to install the required software on your personal computers:\n",
    "\n",
    "`conda install -c bioconda snpeff`\n",
    "\n",
    "`conda install -c conda-forge -c bioconda  snippy`\n",
    "\n",
    "### A bit about conda\n",
    "\n",
    "You have seen Conda commands a few times now, so it's worth understanding what they do. *Conda* is a package manager that makes it easier to install packages. Often, when installing a package, you need to install its dependencies. In some cases these dependencies are complex; package x can depend on y which in turn depended on package z, but only with version 2.0 or above. Conda takes care of all of this for you in a single command. The `-c` argument specifies the channel to use to install the package. Most bioinformatics packages are available on the *bioconda* channel while generic, yet popular packages such as `scikit-bio`, `numpy` and `pandas` are available through the *conda-forge* channel. Conda is not limited to installing python packages! It can be used to install R, Java, C/C++ and many more packages.\n",
    "\n",
    "Additional resources:\n",
    "\n",
    "1. Conda website - https://conda.io/en/latest/\n",
    "2. A conda cheatsheet - https://kapeli.com/cheat_sheets/Conda.docset/Contents/Resources/Documents/index\n",
    "3. Bioconda website - https://bioconda.github.io/\n",
    "\n",
    "## Setup\n",
    "\n",
    "Files for the tutorial are in the data folder. You will find part of a *Staphyloccocus aureus* reference genome, and the paired-end reads from an Illumina run of a (different) *Staphylococcus aureus* strain. We will use the tool Snippy to look for SNVs, indels and rearrangements between the reference strain and our mutant strain.\n",
    "\n",
    "Run the following Snippy command in the terminal:"
   ]
  },
  {
   "cell_type": "markdown",
   "metadata": {},
   "source": [
    "`snippy --outdir varcall --ref data/wildtype.gbk -R1 data/mutant_R1.fastq.gz -R2 data/mutant_R2.fastq.gz`"
   ]
  },
  {
   "cell_type": "markdown",
   "metadata": {},
   "source": [
    "This should take only a few seconds. The output files will all be in the varcall directory. Navigate to this directory and look at the Snippy output files."
   ]
  },
  {
   "cell_type": "markdown",
   "metadata": {},
   "source": [
    "### Question 1\n",
    "\n",
    "Which file extensions do you recognise? What type of data will be in each file? "
   ]
  },
  {
   "cell_type": "markdown",
   "metadata": {},
   "source": [
    "~~~ your responses here"
   ]
  },
  {
   "cell_type": "markdown",
   "metadata": {},
   "source": [
    "The snps.bam file contains the alignments of the reads in the FASTQ files against the reference genome. We will use a tool called samtools to look at the alignments and compute some statistics about the alignment.\n",
    "\n",
    "Run the command below:"
   ]
  },
  {
   "cell_type": "markdown",
   "metadata": {},
   "source": [
    "`samtools view -H varcall/snps.bam`"
   ]
  },
  {
   "cell_type": "markdown",
   "metadata": {},
   "source": [
    "This will show you the header of the BAM file. These header gives you important information about the reads in the file, the reference genome, and how the file was generated."
   ]
  },
  {
   "cell_type": "markdown",
   "metadata": {},
   "source": [
    "### Question 2\n",
    "\n",
    "Look at the header and determine the length of the reference genome.\n",
    "\n",
    "Hint: Use https://www.samformat.info/sam-format-header to help you work out what to look for."
   ]
  },
  {
   "cell_type": "markdown",
   "metadata": {},
   "source": [
    "~~~ your response here"
   ]
  },
  {
   "cell_type": "markdown",
   "metadata": {},
   "source": [
    "Now we will use the samtools flagstat command to get some basic statistics about the alignment of reads to the genome. Run the following command:"
   ]
  },
  {
   "cell_type": "markdown",
   "metadata": {},
   "source": [
    "`samtools flagstat varcall/snps.bam`"
   ]
  },
  {
   "cell_type": "markdown",
   "metadata": {},
   "source": [
    "### Question 3\n",
    "\n",
    "How many reads are there in total? What percentage of them have been aligned to the reference?\n",
    "The snps.txt file has a summary of the variants called in this strain against the reference."
   ]
  },
  {
   "cell_type": "markdown",
   "metadata": {},
   "source": [
    "~~~ your responses here"
   ]
  },
  {
   "cell_type": "markdown",
   "metadata": {},
   "source": [
    "### Question 4\n",
    "\n",
    "How many variants were called? How many of them are deletions, insertions, multinucleotide polymorphisms (MNPs), and single nucleotide polymorphisms (SNPs)?\n"
   ]
  },
  {
   "cell_type": "markdown",
   "metadata": {},
   "source": [
    "~~~ your response here"
   ]
  },
  {
   "cell_type": "markdown",
   "metadata": {},
   "source": [
    "### Question 5\n",
    "\n",
    "You can take a closer look at the individual variants in the snps.vcf file. This is a Variant Call Format file which has a standard set of information about each variant. Can you work out what information is contained in some of the columns? What are the reference and alternate alleles for the first variant in the file?"
   ]
  },
  {
   "cell_type": "markdown",
   "metadata": {},
   "source": [
    "~~~ your response here"
   ]
  },
  {
   "cell_type": "markdown",
   "metadata": {},
   "source": [
    "### Question 6\n",
    "\n",
    "To add functional annotation to the variants, we need to provide a reference genome which has gene annotations to an annotation program. This is provided in the wildtype.gbk file in the data directory.\n",
    "\n",
    "Open the wildtype.gbk file and look at the gene annotations in the file. This is a Genbank-format file, which has a CDS entry for every coding sequence in the file with the gene name, the start and end positions on the reference genome, and a description of the protein product the gene produces.\n",
    "\n",
    "What are the start and end positions of the *dnaC* gene in the wildtype.gbk file?\n",
    "\n",
    "Hint:\n",
    "In the `less` command (in command line), you can type / and the string you are looking for to search through the file. Example `/abc` will look for abc"
   ]
  },
  {
   "cell_type": "markdown",
   "metadata": {},
   "source": [
    "~~~ your response here"
   ]
  },
  {
   "cell_type": "markdown",
   "metadata": {},
   "source": [
    "Thank you to Dr. Dieter Bulach and Dharmesh Bhuva for developing the tutorial material. Updated by Steven Morgan."
   ]
  }
 ],
 "metadata": {
  "kernelspec": {
   "display_name": "Python 3",
   "language": "python",
   "name": "python3"
  },
  "language_info": {
   "codemirror_mode": {
    "name": "ipython",
    "version": 3
   },
   "file_extension": ".py",
   "mimetype": "text/x-python",
   "name": "python",
   "nbconvert_exporter": "python",
   "pygments_lexer": "ipython3",
   "version": "3.7.3"
  }
 },
 "nbformat": 4,
 "nbformat_minor": 2
}
