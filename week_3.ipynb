{
 "cells": [
  {
   "cell_type": "markdown",
   "metadata": {},
   "source": [
    "# Week 3 - Implementing the tasks from week 2\n",
    "\n",
    "In this workshop, we will be revisiting the transcription and translation activity from in last week. We will be writing code to perform all the tasks we completed by hand in week 2. The workshop has two parts: implementing methods from scratch, and using existing implementations and data structures to store and process sequences.\n",
    "\n",
    "If you need to review coding in python or the use of jupyter notebooks, there are guides to help you in the Modules tab on the LMS.\n",
    "\n",
    "## Task 1 - Computing the reverse complement\n",
    "\n",
    "Here, we will write a script to determine the reverse complement of a given sequence. We begin by creating a dictionary of mappings."
   ]
  },
  {
   "cell_type": "code",
   "execution_count": null,
   "metadata": {},
   "outputs": [],
   "source": [
    "complement_dict = {'A': 'T', 'T': 'A', 'C': 'G', 'G': 'C'}\n",
    "complement_dict['C']"
   ]
  },
  {
   "cell_type": "code",
   "execution_count": null,
   "metadata": {},
   "outputs": [],
   "source": [
    "dna_seq = 'GATCTTCGGGTCTAGTTCAGGTTAACC'\n",
    "complement_seq = ''\n",
    "\n",
    "for base in dna_seq:\n",
    "    complement_seq += complement_dict[base]\n",
    "    \n",
    "print(complement_seq)"
   ]
  },
  {
   "cell_type": "code",
   "execution_count": null,
   "metadata": {},
   "outputs": [],
   "source": [
    "# Note: we do not modify the original DNA sequence. This allows it to be reused in other places.\n",
    "dna_seq"
   ]
  },
  {
   "cell_type": "markdown",
   "metadata": {},
   "source": [
    "The above script can be written up as a function thereby making it reusable"
   ]
  },
  {
   "cell_type": "code",
   "execution_count": null,
   "metadata": {},
   "outputs": [],
   "source": [
    "def complement(seq):\n",
    "    \"\"\"\n",
    "    Compute the reverse complement of a given DNA sequence\n",
    "    \"\"\"\n",
    "    \n",
    "    complement_dict = {'A': 'T', 'T': 'A', 'C': 'G', 'G': 'C'}\n",
    "    complement_seq = ''\n",
    "\n",
    "    for nt in seq:\n",
    "        complement_seq += complement_dict[nt]\n",
    "    return complement_seq"
   ]
  },
  {
   "cell_type": "code",
   "execution_count": null,
   "metadata": {},
   "outputs": [],
   "source": [
    "print(complement('AAAAA')) # should give 'TTTTT'\n",
    "print(complement(dna_seq))"
   ]
  },
  {
   "cell_type": "markdown",
   "metadata": {},
   "source": [
    "## Task 2 - Transcribing a DNA sequence\n",
    "\n",
    "Here, we trancribe a DNA sequence into an RNA-sequence. Write a function to transcribe a given DNA sequence"
   ]
  },
  {
   "cell_type": "code",
   "execution_count": null,
   "metadata": {},
   "outputs": [],
   "source": [
    "def transcribe(dna):\n",
    "    \"\"\"\n",
    "    Compute the transcript resulting from a DNA sequence\n",
    "    \"\"\"\n",
    "    \n",
    "    # put your code here\n",
    "    "
   ]
  },
  {
   "cell_type": "code",
   "execution_count": null,
   "metadata": {},
   "outputs": [],
   "source": [
    "print(transcribe('ATAT')) # should give 'AUAU'\n",
    "print(transcribe('ATGCCCCAACTAAATACTACCGTATGGCCCACCATAATTACC'))"
   ]
  },
  {
   "cell_type": "markdown",
   "metadata": {},
   "source": [
    "## Task 3 - Translate a DNA sequence\n",
    "\n",
    "As with task 1, we will be needing a dictionary to help us map codons to their respective amino acids. We first form the dictionary using information provided in lab 1"
   ]
  },
  {
   "cell_type": "code",
   "execution_count": null,
   "metadata": {},
   "outputs": [],
   "source": [
    "# Note: * represents the stop codon and M the start codon\n",
    "base1 = 'TTTTTTTTTTTTTTTTCCCCCCCCCCCCCCCCAAAAAAAAAAAAAAAAGGGGGGGGGGGGGGGG'\n",
    "base2 = 'TTTTCCCCAAAAGGGGTTTTCCCCAAAAGGGGTTTTCCCCAAAAGGGGTTTTCCCCAAAAGGGG'\n",
    "base3 = 'TCAGTCAGTCAGTCAGTCAGTCAGTCAGTCAGTCAGTCAGTCAGTCAGTCAGTCAGTCAGTCAG'\n",
    "aa = 'FFLLSSSSYY**CC*WLLLLPPPPHHQQRRRRIIIMTTTTNNKKSSRRVVVVAAAADDEEGGGG'\n",
    "\n",
    "codon_map = {} # build a codon map using this dictionary\n",
    "#your code here\n",
    "codon_map"
   ]
  },
  {
   "cell_type": "markdown",
   "metadata": {},
   "source": [
    "Now, use your dictionary to get the amino acid sequence for the first reading frame (no offset on the sequence). You can use the `dict.get` function to return default values if the keys do not exist in the dictionary"
   ]
  },
  {
   "cell_type": "code",
   "execution_count": null,
   "metadata": {},
   "outputs": [],
   "source": [
    "def translate(dna, codon_dict):\n",
    "    \"\"\"\n",
    "    Translate a DNA sequence from the first reading frame, given a codon mapping dictionary\n",
    "    Codons are keys and amino acids are values in this dictionary\n",
    "    \"\"\"\n",
    "    \n",
    "    #your code here\n",
    "    "
   ]
  },
  {
   "cell_type": "code",
   "execution_count": null,
   "metadata": {},
   "outputs": [],
   "source": [
    "dna_seq = 'ACTATTAAACCCATATAACCTCCCCCAAAATTCAGAATAATAAC'\n",
    "print(translate('ATGATGA', codon_map)) # should give MM or MMX where X represents an incomplete codon\n",
    "print(translate(dna_seq, codon_map))"
   ]
  },
  {
   "cell_type": "markdown",
   "metadata": {},
   "source": [
    "Now, write a function that uses the above function to get the amino acid sequence of all 6 reading frames. Note: three reading frames will be from the reverse complement strand. You may use the `dna_seq[::-1]` to reverse a sequence this. This is a shorter way to write `dna_seq[44::-1]` which means start at position 44, go all the way to the end (position 0 inclusive) and move with a step -1 (step backwards)."
   ]
  },
  {
   "cell_type": "code",
   "execution_count": null,
   "metadata": {},
   "outputs": [],
   "source": [
    "dna_seq[::-1]"
   ]
  },
  {
   "cell_type": "code",
   "execution_count": null,
   "metadata": {},
   "outputs": [],
   "source": [
    "dna_seq[44::-1]"
   ]
  },
  {
   "cell_type": "code",
   "execution_count": null,
   "metadata": {},
   "outputs": [],
   "source": [
    "def six_rfs(dna, codon_dict):\n",
    "    \"\"\"\n",
    "    Get the amino acid sequence from all six reading frames of a sequence.\n",
    "    This function should use the translate function implemented earlier\n",
    "    Return the result as a list of size 6\n",
    "    \"\"\"\n",
    "    \n",
    "    #your code here\n",
    "    "
   ]
  },
  {
   "cell_type": "code",
   "execution_count": null,
   "metadata": {},
   "outputs": [],
   "source": [
    "# should give: (with or without the X)\n",
    "# 'TIKPI*PPPKFRIIX'\n",
    "# 'LLNPYNLPQNSE**X'\n",
    "# 'Y*THITSPKIQNNN'\n",
    "# 'VIILNFGGGYMGLIX'\n",
    "# 'LLF*ILGEVIWV**X'\n",
    "# 'YYSEFWGRLYGFNS'\n",
    "\n",
    "six_rfs(dna_seq, codon_map)"
   ]
  },
  {
   "cell_type": "markdown",
   "metadata": {},
   "source": [
    "# Task 4 - using the scikit-bio library to manage sequences\n",
    "\n",
    "All of the above tasks can be performed using functions in the scikit-bio library. It provides functions to read and parse some popular file formats, and functions to store and modify sequences.\n",
    "\n",
    "It is already installed for you on the lab server.\n",
    "\n",
    "To install it on your personal computer, use the command:\n",
    "conda install -c conda-forge scikit-bio"
   ]
  },
  {
   "cell_type": "code",
   "execution_count": null,
   "metadata": {},
   "outputs": [],
   "source": [
    "#import the library\n",
    "import skbio"
   ]
  },
  {
   "cell_type": "markdown",
   "metadata": {},
   "source": [
    "scikit-bio, like many python libraries, uses an object oriented programming paradigm. As an example, a DNA string is treated as an object. All objects have properties and behaviours. Properties could be metadata such as the sequence ID of a DNA sequence or its quality. Behaviours could be getting the transcribing or translating the sequence. Properties and behaviours are referred to as *attributes* and *methods* in python."
   ]
  },
  {
   "cell_type": "code",
   "execution_count": null,
   "metadata": {},
   "outputs": [],
   "source": [
    "dna_seq = skbio.sequence.DNA('ACTATTAAACCCATATAACCTCCCCCAAAATTCAGAATAATAAC')\n",
    "dna_seq"
   ]
  },
  {
   "cell_type": "code",
   "execution_count": null,
   "metadata": {},
   "outputs": [],
   "source": [
    "# the alphabet used to encode a DNA sequence is an attribute of the DNA object from skbio\n",
    "dna_seq.alphabet"
   ]
  },
  {
   "cell_type": "markdown",
   "metadata": {},
   "source": [
    "# Task 5 - Behaviours/Methods of a DNA object\n",
    "\n",
    "We now load the sequence of the dnaA gene from a fasta file in the data folder using the `skbio.io.read` function. Type `?skbio.io.read` in a code cell to get to the help page of this function."
   ]
  },
  {
   "cell_type": "code",
   "execution_count": null,
   "metadata": {},
   "outputs": [],
   "source": [
    "dnaA = skbio.io.read('data/dnaA.fa', format = 'fasta', into = skbio.sequence.DNA)\n",
    "dnaA"
   ]
  },
  {
   "cell_type": "markdown",
   "metadata": {},
   "source": [
    "The above DNA object holds attributes such as a description and an ID. We can get the complement of this sequence, transcribe it and translate it using functions from the scikit-bio library. For more information on all the functions and classes (DNA, RNA, etc.) the library provides, read the documentation page http://scikit-bio.org/docs/0.5.1/index.html."
   ]
  },
  {
   "cell_type": "code",
   "execution_count": null,
   "metadata": {},
   "outputs": [],
   "source": [
    "dnaA.complement()"
   ]
  },
  {
   "cell_type": "code",
   "execution_count": null,
   "metadata": {},
   "outputs": [],
   "source": [
    "dnaA.transcribe()"
   ]
  },
  {
   "cell_type": "code",
   "execution_count": null,
   "metadata": {},
   "outputs": [],
   "source": [
    "dnaA.translate()"
   ]
  },
  {
   "cell_type": "code",
   "execution_count": null,
   "metadata": {},
   "outputs": [],
   "source": [
    "list(dnaA.translate_six_frames())"
   ]
  },
  {
   "cell_type": "markdown",
   "metadata": {},
   "source": [
    "Thank you to Dr. Dieter Bulach and Dharmesh Bhuva for developing the tutorial material. Updated by Steven Morgan."
   ]
  }
 ],
 "metadata": {
  "kernelspec": {
   "display_name": "Python 3",
   "language": "python",
   "name": "python3"
  },
  "language_info": {
   "codemirror_mode": {
    "name": "ipython",
    "version": 3
   },
   "file_extension": ".py",
   "mimetype": "text/x-python",
   "name": "python",
   "nbconvert_exporter": "python",
   "pygments_lexer": "ipython3",
   "version": "3.7.3"
  }
 },
 "nbformat": 4,
 "nbformat_minor": 2
}
