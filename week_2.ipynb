{
 "cells": [
  {
   "cell_type": "markdown",
   "metadata": {},
   "source": [
    "# Week 2 - programming in jupyter notebooks\n",
    "\n",
    "The aim of this workshop is to get you logged on to the server (hopefully that's done already!) and to help you get comfortable with programming in jupyter notebooks. \n",
    "\n",
    "Remember to duplicate the original file week_2.ipynb and work on the duplicated file (week_2_studentnumber.ipynb).\n",
    "\n",
    "Jupyter notebooks are organised into cells. If you double click this text, you can see (and edit) the content in the cell. Use Shift-Enter to execute the cell.\n",
    "\n",
    "This cell is a markdown cell. It appears as text. You can format headings with \"#\" or subheadings with \"##\""
   ]
  },
  {
   "cell_type": "markdown",
   "metadata": {},
   "source": [
    "The cell below is a code cell. The cell following it is the output of that code."
   ]
  },
  {
   "cell_type": "code",
   "execution_count": 3,
   "metadata": {},
   "outputs": [
    {
     "name": "stdout",
     "output_type": "stream",
     "text": [
      "Hello world!\n"
     ]
    }
   ],
   "source": [
    "print(\"Hello world!\")"
   ]
  },
  {
   "cell_type": "markdown",
   "metadata": {},
   "source": [
    "Here is the list of shortcuts from the introduction. Try opening a new cell and writing some python code. Have a play around and try to get familiar with the shortcuts.\n",
    "\n",
    "* Shift-Enter : execute the code in the current cell\n",
    "* Enter : edit the current cell\n",
    "* ESC : stop editing a cell and return to \"command mode\" to use other hotkeys\n",
    "* m : Turn the current cell into a Markdown cell\n",
    "* y : Turn the current cell into a code cell\n",
    "* a : add a new cell above\n",
    "* b : add a new cell below\n",
    "* dd : delete the current cell\n",
    "* c : copy the current cell\n",
    "* v : paste the copied cell(s)\n"
   ]
  },
  {
   "cell_type": "markdown",
   "metadata": {},
   "source": [
    "This online tutorial might help: <https://www.dataquest.io/blog/jupyter-notebook-tutorial/>"
   ]
  },
  {
   "cell_type": "markdown",
   "metadata": {},
   "source": [
    "Next week we will be doing some coding with genomics problems.\n",
    "\n",
    "In the mean time, if you want to practice, **Dr. Clare Slogett** has kindly made some activities from a related course (<https://handbook.unimelb.edu.au/2019/subjects/comp90014>) available to you in the binder below. This binder means whatever changes you make to the notebooks, they will not be saved.\n",
    "\n",
    "hammingdist.ipynb and kmer_counting.ipynb are good ones to start with.\n",
    "\n",
    "Click on: [![Binder](https://mybinder.org/badge.svg)](https://mybinder.org/v2/gh/claresloggett/comp90014_workshops/master)\n",
    "\n",
    "These are also available on GitHub: <https://github.com/claresloggett/comp90014_workshops>\n"
   ]
  },
  {
   "cell_type": "markdown",
   "metadata": {},
   "source": [
    "Thank you to Dr. Dieter Bulach and Dharmesh Bhuva for developing the tutorial material. Updated by Steven Morgan."
   ]
  }
 ],
 "metadata": {
  "kernelspec": {
   "display_name": "Python 3",
   "language": "python",
   "name": "python3"
  },
  "language_info": {
   "codemirror_mode": {
    "name": "ipython",
    "version": 3
   },
   "file_extension": ".py",
   "mimetype": "text/x-python",
   "name": "python",
   "nbconvert_exporter": "python",
   "pygments_lexer": "ipython3",
   "version": "3.7.3"
  }
 },
 "nbformat": 4,
 "nbformat_minor": 2
}
